{
 "cells": [
  {
   "cell_type": "markdown",
   "metadata": {},
   "source": [
    "# Excerise - MNIST\n",
    "MNIST is hello world of ML. The MNIST database of handwritten digits, available from this page, has a training set of 60,000 examples, and a test set of 10,000 examples. It is a subset of a larger set available from NIST. The digits have been size-normalized and centered in a fixed-size image. More information at\n",
    "- [https://www.tensorflow.org/datasets/catalog/mnist](https://www.tensorflow.org/datasets/catalog/mnist)\n",
    "- [http://yann.lecun.com/exdb/mnist/](http://yann.lecun.com/exdb/mnist/)\n",
    "\n",
    "In this excerise, will practise below tasks\n",
    "- load dataset\n",
    "- explore\n",
    "- wrangle\n",
    "- train model to predict"
   ]
  },
  {
   "cell_type": "markdown",
   "metadata": {},
   "source": [
    "## Load dataset"
   ]
  },
  {
   "cell_type": "code",
   "execution_count": 10,
   "metadata": {},
   "outputs": [
    {
     "name": "stdout",
     "output_type": "stream",
     "text": [
      "TensorFlow version: 2.5.1\n"
     ]
    }
   ],
   "source": [
    "import ssl, os, warnings\n",
    "import numpy as np\n",
    "import tensorflow as tf\n",
    "print(f\"TensorFlow version: {tf.__version__}\")\n",
    "assert tf.__version__ >= \"2.5\"\n",
    "\n",
    "warnings.filterwarnings('ignore')\n",
    "os.environ['TF_CPP_MIN_LOG_LEVEL'] = '2'\n",
    "\n",
    "model_name = './models/mnist.h5'\n",
    "\n",
    "# BEGIN: fix Python or Notebook SSL CERTIFICATE_VERIFY_FAILED\n",
    "if (not os.environ.get('PYTHONHTTPSVERIFY', '') and getattr(ssl, '_create_unverified_context', None)):\n",
    "    ssl._create_default_https_context = ssl._create_unverified_context\n",
    "# END: fix Python or Notebook SSL CERTIFICATE_VERIFY_FAILED"
   ]
  },
  {
   "cell_type": "markdown",
   "metadata": {},
   "source": [
    "## Using TF"
   ]
  },
  {
   "cell_type": "code",
   "execution_count": 11,
   "metadata": {},
   "outputs": [
    {
     "name": "stdout",
     "output_type": "stream",
     "text": [
      " X_train: (array([  0,   1,   2,   3,   4,   5,   6,   7,   8,   9,  10,  11,  12,\n",
      "        13,  14,  15,  16,  17,  18,  19,  20,  21,  22,  23,  24,  25,\n",
      "        26,  27,  28,  29,  30,  31,  32,  33,  34,  35,  36,  37,  38,\n",
      "        39,  40,  41,  42,  43,  44,  45,  46,  47,  48,  49,  50,  51,\n",
      "        52,  53,  54,  55,  56,  57,  58,  59,  60,  61,  62,  63,  64,\n",
      "        65,  66,  67,  68,  69,  70,  71,  72,  73,  74,  75,  76,  77,\n",
      "        78,  79,  80,  81,  82,  83,  84,  85,  86,  87,  88,  89,  90,\n",
      "        91,  92,  93,  94,  95,  96,  97,  98,  99, 100, 101, 102, 103,\n",
      "       104, 105, 106, 107, 108, 109, 110, 111, 112, 113, 114, 115, 116,\n",
      "       117, 118, 119, 120, 121, 122, 123, 124, 125, 126, 127, 128, 129,\n",
      "       130, 131, 132, 133, 134, 135, 136, 137, 138, 139, 140, 141, 142,\n",
      "       143, 144, 145, 146, 147, 148, 149, 150, 151, 152, 153, 154, 155,\n",
      "       156, 157, 158, 159, 160, 161, 162, 163, 164, 165, 166, 167, 168,\n",
      "       169, 170, 171, 172, 173, 174, 175, 176, 177, 178, 179, 180, 181,\n",
      "       182, 183, 184, 185, 186, 187, 188, 189, 190, 191, 192, 193, 194,\n",
      "       195, 196, 197, 198, 199, 200, 201, 202, 203, 204, 205, 206, 207,\n",
      "       208, 209, 210, 211, 212, 213, 214, 215, 216, 217, 218, 219, 220,\n",
      "       221, 222, 223, 224, 225, 226, 227, 228, 229, 230, 231, 232, 233,\n",
      "       234, 235, 236, 237, 238, 239, 240, 241, 242, 243, 244, 245, 246,\n",
      "       247, 248, 249, 250, 251, 252, 253, 254, 255], dtype=uint8), array([38045844,    22896,    33653,    36040,    38267,    39148,\n",
      "          37692,    38856,    30878,    38234,    35282,    36020,\n",
      "          30139,    40100,    26939,    28869,    29115,    27551,\n",
      "          26849,    34431,    29955,    35496,    26750,    22910,\n",
      "          25950,    29995,    24260,    24025,    25434,    37160,\n",
      "          22913,    26205,    28890,    15556,    19906,    21516,\n",
      "          22128,    24760,    25922,    18250,    20675,    27023,\n",
      "          22349,    21227,    19030,    21122,    17326,    24237,\n",
      "          20083,    17919,    23964,    25003,    14588,    19230,\n",
      "          18195,    18068,    23511,    31905,    14330,    18140,\n",
      "          18144,    18133,    19805,    23909,    46754,    16050,\n",
      "          17514,    15914,    16302,    16742,    19288,    18444,\n",
      "          17313,    19307,    13816,    15875,    17877,    13535,\n",
      "          17569,    18085,    15872,    16527,    21112,    15514,\n",
      "          27088,    25496,    25837,    12645,    15796,    17628,\n",
      "          12695,    17876,    18525,    17225,    16655,    16244,\n",
      "          17902,    14246,    16820,    17710,    15217,    14210,\n",
      "          21721,    14854,    16395,    14871,    18334,    16385,\n",
      "          17914,    18293,    15737,    16052,    18288,    19994,\n",
      "          24774,    15056,    19329,    14702,    17061,    15472,\n",
      "          16419,    17300,    16392,    17752,    13804,    16490,\n",
      "          16800,    16455,    74946,    16409,    17908,    19269,\n",
      "          18685,    15030,    15490,    16616,    16088,    17451,\n",
      "          17378,    19446,    17683,    27102,    17965,    15986,\n",
      "          18827,    18303,    15873,    16743,    17012,    16590,\n",
      "          16943,    21650,    17821,    15547,    17938,    18754,\n",
      "          18648,    14733,    16788,    15946,    18066,    17143,\n",
      "          17994,    18337,    15435,    15288,    15029,    14355,\n",
      "          25069,    25562,    29853,    16744,    18505,    19517,\n",
      "          16904,    16539,    17251,    16800,    16862,    18169,\n",
      "          17153,    17183,    16052,    20007,    18052,    17278,\n",
      "          17009,    16589,    17257,    18658,    20487,    51987,\n",
      "          19899,    18840,    18961,    20001,    22659,    23195,\n",
      "          26112,    18878,    18097,    17640,    19653,    28907,\n",
      "          18440,    19399,    21994,    20848,    18141,    19604,\n",
      "          21901,    22590,    23084,    25289,    25724,    24176,\n",
      "          21708,    24890,    21828,    19632,    20554,    24794,\n",
      "          25839,    26221,    24175,    27285,    35378,    25350,\n",
      "          29370,    23646,    26957,    29365,    30253,    36800,\n",
      "          33219,    29130,    31555,    29676,    26914,    27474,\n",
      "          33422,    35573,    31218,    37029,    37199,    35397,\n",
      "          33844,    37941,    35418,    39342,    59559,   117808,\n",
      "         653888,  1513207,   801557,   314282]))\n",
      " y_train: (array([0, 1, 2, 3, 4, 5, 6, 7, 8, 9], dtype=uint8), array([5923, 6742, 5958, 6131, 5842, 5421, 5918, 6265, 5851, 5949]))\n",
      " X_test: (array([  0,   1,   2,   3,   4,   5,   6,   7,   8,   9,  10,  11,  12,\n",
      "        13,  14,  15,  16,  17,  18,  19,  20,  21,  22,  23,  24,  25,\n",
      "        26,  27,  28,  29,  30,  31,  32,  33,  34,  35,  36,  37,  38,\n",
      "        39,  40,  41,  42,  43,  44,  45,  46,  47,  48,  49,  50,  51,\n",
      "        52,  53,  54,  55,  56,  57,  58,  59,  60,  61,  62,  63,  64,\n",
      "        65,  66,  67,  68,  69,  70,  71,  72,  73,  74,  75,  76,  77,\n",
      "        78,  79,  80,  81,  82,  83,  84,  85,  86,  87,  88,  89,  90,\n",
      "        91,  92,  93,  94,  95,  96,  97,  98,  99, 100, 101, 102, 103,\n",
      "       104, 105, 106, 107, 108, 109, 110, 111, 112, 113, 114, 115, 116,\n",
      "       117, 118, 119, 120, 121, 122, 123, 124, 125, 126, 127, 128, 129,\n",
      "       130, 131, 132, 133, 134, 135, 136, 137, 138, 139, 140, 141, 142,\n",
      "       143, 144, 145, 146, 147, 148, 149, 150, 151, 152, 153, 154, 155,\n",
      "       156, 157, 158, 159, 160, 161, 162, 163, 164, 165, 166, 167, 168,\n",
      "       169, 170, 171, 172, 173, 174, 175, 176, 177, 178, 179, 180, 181,\n",
      "       182, 183, 184, 185, 186, 187, 188, 189, 190, 191, 192, 193, 194,\n",
      "       195, 196, 197, 198, 199, 200, 201, 202, 203, 204, 205, 206, 207,\n",
      "       208, 209, 210, 211, 212, 213, 214, 215, 216, 217, 218, 219, 220,\n",
      "       221, 222, 223, 224, 225, 226, 227, 228, 229, 230, 231, 232, 233,\n",
      "       234, 235, 236, 237, 238, 239, 240, 241, 242, 243, 244, 245, 246,\n",
      "       247, 248, 249, 250, 251, 252, 253, 254, 255], dtype=uint8), array([6328781,    3832,    5756,    6100,    6371,    6635,    6236,\n",
      "          6587,    4952,    6412,    6055,    5832,    4956,    6808,\n",
      "          4436,    4707,    4789,    4477,    4584,    5911,    5113,\n",
      "          6097,    4774,    3685,    4239,    4993,    4051,    3884,\n",
      "          4098,    5828,    3818,    4281,    4805,    2634,    3214,\n",
      "          3441,    3655,    4109,    4480,    2985,    3269,    4555,\n",
      "          3623,    3546,    3102,    3441,    2883,    4012,    3330,\n",
      "          2834,    4107,    4016,    2319,    3276,    2997,    3033,\n",
      "          3795,    4958,    2333,    2945,    2874,    2925,    3198,\n",
      "          3856,    8188,    2528,    2910,    2665,    2724,    2852,\n",
      "          3335,    3020,    2873,    3113,    2308,    2605,    2910,\n",
      "          2326,    3090,    2973,    2421,    2929,    3664,    2439,\n",
      "          4267,    4117,    3955,    2161,    2734,    2895,    2032,\n",
      "          2924,    3089,    2891,    2739,    2809,    2813,    2314,\n",
      "          2723,    2931,    2548,    2348,    3876,    2451,    2738,\n",
      "          2411,    3011,    2687,    3021,    2943,    2655,    2625,\n",
      "          2999,    3422,    3762,    2509,    3192,    2482,    2661,\n",
      "          2584,    2672,    2938,    2772,    3078,    2279,    2681,\n",
      "          2822,    2579,   13266,    2796,    3021,    3211,    3234,\n",
      "          2508,    2556,    2793,    2720,    3012,    2749,    3306,\n",
      "          2756,    4258,    3134,    2658,    3115,    2968,    2722,\n",
      "          2755,    2840,    2548,    2845,    3678,    3063,    2621,\n",
      "          2980,    3156,    3153,    2438,    2571,    2580,    3060,\n",
      "          2912,    3023,    3138,    2509,    2655,    2265,    2386,\n",
      "          4171,    4245,    4589,    2852,    3123,    3219,    2766,\n",
      "          2706,    2870,    2820,    2856,    2931,    2849,    2811,\n",
      "          2538,    3492,    2936,    3035,    2900,    2843,    2814,\n",
      "          3110,    3182,    9017,    3345,    3131,    2899,    3266,\n",
      "          3766,    3690,    4104,    3061,    2887,    2943,    3192,\n",
      "          5086,    2920,    3157,    3582,    3586,    2932,    3256,\n",
      "          3631,    3773,    3864,    4344,    4317,    3972,    3739,\n",
      "          4112,    3714,    3192,    3426,    3961,    4200,    4402,\n",
      "          3908,    4496,    5589,    4225,    4877,    3834,    4652,\n",
      "          5136,    5081,    6390,    5666,    4806,    5238,    4906,\n",
      "          4455,    4477,    5481,    5853,    5275,    6208,    6174,\n",
      "          5771,    5556,    6229,    5667,    6551,    6686,   13593,\n",
      "        118612,  261831,  136217,   56835]))\n",
      " y_test: (array([0, 1, 2, 3, 4, 5, 6, 7, 8, 9], dtype=uint8), array([ 980, 1135, 1032, 1010,  982,  892,  958, 1028,  974, 1009]))\n"
     ]
    }
   ],
   "source": [
    "(X_train, y_train), (X_test, y_test) = tf.keras.datasets.mnist.load_data()\n",
    "\n",
    "print(f\" X_train: {np.unique(X_train, return_counts=True)}\")\n",
    "print(f\" y_train: {np.unique(y_train, return_counts=True)}\")\n",
    "print(f\" X_test: {np.unique(X_test, return_counts=True)}\")\n",
    "print(f\" y_test: {np.unique(y_test, return_counts=True)}\")"
   ]
  },
  {
   "cell_type": "code",
   "execution_count": 12,
   "metadata": {},
   "outputs": [
    {
     "name": "stdout",
     "output_type": "stream",
     "text": [
      " X_train shape: (60000, 28, 28)   type: uint8\n",
      " y_train shape: (60000,)   type: uint8\n",
      " X_test shape: (10000, 28, 28)   type: uint8\n",
      " y_test shape: (10000,)   type: uint8\n"
     ]
    }
   ],
   "source": [
    "print(f\" X_train shape: {X_train.shape}   type: {X_train.dtype}\")\n",
    "print(f\" y_train shape: {y_train.shape}   type: {y_train.dtype}\")\n",
    "print(f\" X_test shape: {X_test.shape}   type: {X_test.dtype}\")\n",
    "print(f\" y_test shape: {y_test.shape}   type: {y_test.dtype}\")"
   ]
  },
  {
   "cell_type": "code",
   "execution_count": 13,
   "metadata": {},
   "outputs": [
    {
     "name": "stdout",
     "output_type": "stream",
     "text": [
      "Labels: (array([0, 1, 2, 3, 4, 5, 6, 7, 8, 9], dtype=uint8), array([5923, 6742, 5958, 6131, 5842, 5421, 5918, 6265, 5851, 5949]))\n"
     ]
    }
   ],
   "source": [
    "print(f\"Labels: {np.unique(y_train, return_counts=True)}\")"
   ]
  },
  {
   "cell_type": "markdown",
   "metadata": {},
   "source": [
    "### Display few images"
   ]
  },
  {
   "cell_type": "code",
   "execution_count": 15,
   "metadata": {},
   "outputs": [
    {
     "data": {
      "image/png": "[encoded data removed]",
      "text/plain": [
       "<Figure size 720x720 with 25 Axes>"
      ]
     },
     "metadata": {
      "needs_background": "light"
     },
     "output_type": "display_data"
    }
   ],
   "source": [
    "import matplotlib.pyplot as plt\n",
    "def display_few_images(sample_images, sample_labels):\n",
    "    plt.figure(figsize=(10, 10))\n",
    "    for i in range(25):\n",
    "        idx = np.random.randint(0, len(sample_images))\n",
    "        img = sample_images[idx]\n",
    "        label = sample_labels[idx]\n",
    "        plt.subplot(5, 5, i+1)\n",
    "        plt.axis('off')\n",
    "        plt.title(f\"L: {label}\")\n",
    "        plt.imshow(img)\n",
    "    plt.show()\n",
    "\n",
    "display_few_images(X_train[:25], y_train[:25])"
   ]
  },
  {
   "cell_type": "markdown",
   "metadata": {},
   "source": [
    "## Using TDFS"
   ]
  },
  {
   "cell_type": "code",
   "execution_count": 66,
   "metadata": {},
   "outputs": [],
   "source": [
    "import tensorflow_datasets as tfds"
   ]
  },
  {
   "cell_type": "code",
   "execution_count": 67,
   "metadata": {},
   "outputs": [],
   "source": [
    "mnist_train, info = tfds.load('mnist', split='train', as_supervised=True, with_info=True)\n",
    "mnist_test = tfds.load('mnist', split='test', as_supervised=True)"
   ]
  },
  {
   "cell_type": "markdown",
   "metadata": {},
   "source": [
    "### Show train data"
   ]
  },
  {
   "cell_type": "code",
   "execution_count": 40,
   "metadata": {},
   "outputs": [
    {
     "data": {
      "image/png": "[encoded data removed]",
      "text/plain": [
       "<Figure size 648x648 with 9 Axes>"
      ]
     },
     "metadata": {},
     "output_type": "display_data"
    },
    {
     "data": {
      "image/png": "[encoded data removed]",
      "text/plain": [
       "<Figure size 648x648 with 9 Axes>"
      ]
     },
     "execution_count": 40,
     "metadata": {},
     "output_type": "execute_result"
    }
   ],
   "source": [
    "tfds.show_examples(mnist_train, info)"
   ]
  },
  {
   "cell_type": "markdown",
   "metadata": {},
   "source": [
    "### Show test data"
   ]
  },
  {
   "cell_type": "code",
   "execution_count": 41,
   "metadata": {},
   "outputs": [
    {
     "data": {
      "image/png": "[encoded data removed]",
      "text/plain": [
       "<Figure size 648x648 with 9 Axes>"
      ]
     },
     "metadata": {},
     "output_type": "display_data"
    },
    {
     "data": {
      "image/png": "[encoded data removed]",
      "text/plain": [
       "<Figure size 648x648 with 9 Axes>"
      ]
     },
     "execution_count": 41,
     "metadata": {},
     "output_type": "execute_result"
    }
   ],
   "source": [
    "tfds.show_examples(mnist_test, info)"
   ]
  },
  {
   "cell_type": "markdown",
   "metadata": {},
   "source": [
    "#### Number of classes, label names:"
   ]
  },
  {
   "cell_type": "code",
   "execution_count": 42,
   "metadata": {},
   "outputs": [
    {
     "name": "stdout",
     "output_type": "stream",
     "text": [
      "Number of classes: 10\n",
      "Label names : ['0', '1', '2', '3', '4', '5', '6', '7', '8', '9']\n"
     ]
    }
   ],
   "source": [
    "print(f\"Number of classes: {info.features['label'].num_classes}\")\n",
    "print(f\"Label names : {info.features['label'].names}\")"
   ]
  },
  {
   "cell_type": "markdown",
   "metadata": {},
   "source": [
    "#### Shapes, dtypes:"
   ]
  },
  {
   "cell_type": "code",
   "execution_count": 43,
   "metadata": {},
   "outputs": [
    {
     "name": "stdout",
     "output_type": "stream",
     "text": [
      " Label shape: {'image': (28, 28, 1), 'label': ()}\n",
      " Label type: {'image': tf.uint8, 'label': tf.int64}\n",
      " Image shape: (28, 28, 1)\n",
      " Image type: <dtype: 'uint8'>\n"
     ]
    }
   ],
   "source": [
    "print(f\" Label shape: {info.features.shape}\")\n",
    "print(f\" Label type: {info.features.dtype}\")\n",
    "print(f\" Image shape: {info.features['image'].shape}\")\n",
    "print(f\" Image type: {info.features['image'].dtype}\")"
   ]
  },
  {
   "cell_type": "code",
   "execution_count": 44,
   "metadata": {},
   "outputs": [
    {
     "name": "stdout",
     "output_type": "stream",
     "text": [
      " Train dataset size: 60000\n",
      " Test dataset size: 10000\n",
      " Train dataset shards: 1\n",
      " Test dataset shards: 1\n"
     ]
    }
   ],
   "source": [
    "print(f\" Train dataset size: {info.splits['train'].num_examples}\")\n",
    "print(f\" Test dataset size: {info.splits['test'].num_examples}\")\n",
    "print(f\" Train dataset shards: {info.splits['train'].num_shards}\")\n",
    "print(f\" Test dataset shards: {info.splits['test'].num_shards}\")"
   ]
  },
  {
   "cell_type": "markdown",
   "metadata": {},
   "source": [
    "#### Wrangle dataset\n",
    "Normalize data to values between 0 & 1."
   ]
  },
  {
   "cell_type": "code",
   "execution_count": 45,
   "metadata": {},
   "outputs": [],
   "source": [
    "def tfds_wrangle_data(dataset, split_name):\n",
    "    wrangle = dataset.map(lambda image, label: (tf.cast(image, tf.float32) / 255.0, label))\n",
    "    wrangle = wrangle.cache()\n",
    "    if split_name == 'train':\n",
    "        dataset = dataset.shuffle(info.splits[split_name].num_examples)\n",
    "    return wrangle.batch(64).prefetch(tf.data.AUTOTUNE)"
   ]
  },
  {
   "cell_type": "code",
   "execution_count": 46,
   "metadata": {},
   "outputs": [
    {
     "data": {
      "text/plain": [
       "<PrefetchDataset shapes: ((None, 28, 28, 1), (None,)), types: (tf.float32, tf.int64)>"
      ]
     },
     "execution_count": 46,
     "metadata": {},
     "output_type": "execute_result"
    }
   ],
   "source": [
    "train_data = tfds_wrangle_data(mnist_train, 'train')\n",
    "train_data"
   ]
  },
  {
   "cell_type": "code",
   "execution_count": 47,
   "metadata": {},
   "outputs": [
    {
     "data": {
      "text/plain": [
       "<PrefetchDataset shapes: ((None, 28, 28, 1), (None,)), types: (tf.float32, tf.int64)>"
      ]
     },
     "execution_count": 47,
     "metadata": {},
     "output_type": "execute_result"
    }
   ],
   "source": [
    "test_data = tfds_wrangle_data(mnist_test, 'test')\n",
    "test_data"
   ]
  },
  {
   "cell_type": "markdown",
   "metadata": {},
   "source": [
    "#### Create Model"
   ]
  },
  {
   "cell_type": "code",
   "execution_count": 48,
   "metadata": {},
   "outputs": [
    {
     "name": "stdout",
     "output_type": "stream",
     "text": [
      "model already exists and loading it....\n",
      "Model: \"sequential\"\n",
      "_________________________________________________________________\n",
      "Layer (type)                 Output Shape              Param #   \n",
      "=================================================================\n",
      "flatten (Flatten)            (None, 784)               0         \n",
      "_________________________________________________________________\n",
      "dense (Dense)                (None, 64)                50240     \n",
      "_________________________________________________________________\n",
      "dense_1 (Dense)              (None, 10)                650       \n",
      "=================================================================\n",
      "Total params: 50,890\n",
      "Trainable params: 50,890\n",
      "Non-trainable params: 0\n",
      "_________________________________________________________________\n"
     ]
    }
   ],
   "source": [
    "model_exists = os.path.exists(model_name)\n",
    "tfds_model = None        \n",
    "if model_exists:  # Check if model exists\n",
    "    print('model already exists and loading it....')\n",
    "    tfds_model = tf.keras.models.load_model(model_name)\n",
    "else:\n",
    "    print('model does not exist and creating it....')\n",
    "    tfds_model = tf.keras.Sequential([\n",
    "        tf.keras.layers.InputLayer(info.features['image'].shape),\n",
    "        tf.keras.layers.Flatten(),\n",
    "        tf.keras.layers.Dense(64, activation='relu'),\n",
    "        tf.keras.layers.Dense(10, activation='softmax')\n",
    "    ])\n",
    "    tfds_model.compile(optimizer='adam', loss='sparse_categorical_crossentropy', metrics=['accuracy'])\n",
    "\n",
    "tfds_model.summary()"
   ]
  },
  {
   "cell_type": "markdown",
   "metadata": {},
   "source": [
    "#### Fit the model"
   ]
  },
  {
   "cell_type": "code",
   "execution_count": 49,
   "metadata": {},
   "outputs": [
    {
     "name": "stdout",
     "output_type": "stream",
     "text": [
      "Epoch 1/5\n",
      "938/938 [==============================] - 4s 4ms/step - loss: 0.0738 - accuracy: 0.9788\n",
      "Epoch 2/5\n",
      "938/938 [==============================] - 1s 1ms/step - loss: 0.0632 - accuracy: 0.9820\n",
      "Epoch 3/5\n",
      "938/938 [==============================] - 2s 2ms/step - loss: 0.0546 - accuracy: 0.9848\n",
      "Epoch 4/5\n",
      "938/938 [==============================] - 2s 2ms/step - loss: 0.0475 - accuracy: 0.9874\n",
      "Epoch 5/5\n",
      "938/938 [==============================] - 1s 1ms/step - loss: 0.0414 - accuracy: 0.9895\n"
     ]
    },
    {
     "data": {
      "text/plain": [
       "<tensorflow.python.keras.callbacks.History at 0x7fe8caa446a0>"
      ]
     },
     "execution_count": 49,
     "metadata": {},
     "output_type": "execute_result"
    }
   ],
   "source": [
    "# mfit = model.fit(train_data, epochs=5, validation_data=test_data)\n",
    "mfit = tfds_model.fit(train_data, epochs=5)\n",
    "mfit"
   ]
  },
  {
   "cell_type": "markdown",
   "metadata": {},
   "source": [
    "#### Evaluate model using test data"
   ]
  },
  {
   "cell_type": "code",
   "execution_count": 50,
   "metadata": {},
   "outputs": [
    {
     "name": "stdout",
     "output_type": "stream",
     "text": [
      "157/157 [==============================] - 1s 4ms/step - loss: 0.0943 - accuracy: 0.9709\n"
     ]
    },
    {
     "data": {
      "text/plain": [
       "[0.0942615196108818, 0.9708999991416931]"
      ]
     },
     "execution_count": 50,
     "metadata": {},
     "output_type": "execute_result"
    }
   ],
   "source": [
    "tfds_model.evaluate(test_data)"
   ]
  },
  {
   "cell_type": "markdown",
   "metadata": {},
   "source": [
    "#### Save model"
   ]
  },
  {
   "cell_type": "code",
   "execution_count": 51,
   "metadata": {},
   "outputs": [],
   "source": [
    "tfds_model.save(model_name)\n"
   ]
  }
 ],
 "metadata": {
  "interpreter": {
   "hash": "c914b52c65569099859295c2cc331f400902000b420f75a131baffafcc5190ac"
  },
  "kernelspec": {
   "display_name": "Python 3.8.5 64-bit ('venv': venv)",
   "name": "python3"
  },
  "language_info": {
   "codemirror_mode": {
    "name": "ipython",
    "version": 3
   },
   "file_extension": ".py",
   "mimetype": "text/x-python",
   "name": "python",
   "nbconvert_exporter": "python",
   "pygments_lexer": "ipython3",
   "version": "3.8.5"
  },
  "orig_nbformat": 4
 },
 "nbformat": 4,
 "nbformat_minor": 2
}
