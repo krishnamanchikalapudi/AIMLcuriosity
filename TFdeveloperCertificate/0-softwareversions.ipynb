{
 "cells": [
  {
   "cell_type": "markdown",
   "id": "1f5e687c-8a17-411f-8150-191b86fd9f92",
   "metadata": {},
   "source": [
    "# Software versions"
   ]
  },
  {
   "cell_type": "code",
   "execution_count": 1,
   "id": "b0732da0-f863-44dd-9574-8f01a3930000",
   "metadata": {},
   "outputs": [
    {
     "name": "stdout",
     "output_type": "stream",
     "text": [
      "/Users/krishnamanchikalapudi/WORKSPACE/GitHub/learn.ml/TFdeveloperCertificate/venv/bin:/Library/Frameworks/Python.framework/Versions/3.8/bin:/usr/local/mysql/bin:/usr/local/bin/node:/usr/local/bin/npm:/Library/Frameworks/Python.framework/Versions/3.8:/Users/krishnamanchikalapudi/.local/lib/aws/bin:/Users/krishnamanchikalapudi/TOOLS/source-to-image:/Users/krishnamanchikalapudi/TOOLS/gradle-5.0/bin:/Users/krishnamanchikalapudi/TOOLS/maven-3.x/bin:/Library/Java/JavaVirtualMachines/amazon-corretto-8.jdk/Contents/Home:/users/krishnamanchikalapudi/TOOLS/tomcat-9.x/:/usr/local/bin:/usr/bin:/bin:/usr/sbin:/sbin:\n"
     ]
    }
   ],
   "source": [
    "!echo $PATH"
   ]
  },
  {
   "cell_type": "code",
   "execution_count": 2,
   "id": "13dbc905-8685-4e2d-b167-94b2dcdf38b2",
   "metadata": {},
   "outputs": [
    {
     "name": "stdout",
     "output_type": "stream",
     "text": [
      "python is /Users/krishnamanchikalapudi/WORKSPACE/GitHub/learn.ml/TFdeveloperCertificate/venv/bin/python\n",
      "python is /Library/Frameworks/Python.framework/Versions/3.8/python\n",
      "python is /Users/krishnamanchikalapudi/.local/lib/aws/bin/python\n",
      "python is /usr/local/bin/python\n",
      "python is /usr/bin/python\n"
     ]
    }
   ],
   "source": [
    "!type -a python"
   ]
  },
  {
   "cell_type": "code",
   "execution_count": 3,
   "id": "448aeda0-7a97-4e2a-9b3d-9e58f67e4081",
   "metadata": {},
   "outputs": [
    {
     "name": "stdout",
     "output_type": "stream",
     "text": [
      "pip is /Users/krishnamanchikalapudi/WORKSPACE/GitHub/learn.ml/TFdeveloperCertificate/venv/bin/pip\n",
      "pip is /Library/Frameworks/Python.framework/Versions/3.8/bin/pip\n",
      "pip is /Users/krishnamanchikalapudi/.local/lib/aws/bin/pip\n",
      "pip is /usr/local/bin/pip\n"
     ]
    }
   ],
   "source": [
    "!type -a pip"
   ]
  },
  {
   "cell_type": "code",
   "execution_count": 4,
   "id": "5f16f3f0-339a-4b80-a16d-a8f85788ef6f",
   "metadata": {},
   "outputs": [
    {
     "name": "stdout",
     "output_type": "stream",
     "text": [
      "Requirement already satisfied: tensorflow==2.5.1 in ./venv/lib/python3.8/site-packages (from -r requirements.txt (line 1)) (2.5.1)\n",
      "Requirement already satisfied: tensorflow-datasets==4.1.0 in ./venv/lib/python3.8/site-packages (from -r requirements.txt (line 2)) (4.1.0)\n",
      "Requirement already satisfied: Pillow==8.3.2 in ./venv/lib/python3.8/site-packages (from -r requirements.txt (line 3)) (8.3.2)\n",
      "Requirement already satisfied: numpy in ./venv/lib/python3.8/site-packages (from -r requirements.txt (line 4)) (1.19.5)\n",
      "Requirement already satisfied: urllib3 in ./venv/lib/python3.8/site-packages (from -r requirements.txt (line 5)) (1.26.7)\n",
      "Requirement already satisfied: pandas in ./venv/lib/python3.8/site-packages (from -r requirements.txt (line 6)) (1.3.3)\n",
      "Requirement already satisfied: matplotlib in ./venv/lib/python3.8/site-packages (from -r requirements.txt (line 7)) (3.4.3)\n",
      "Requirement already satisfied: scipy in ./venv/lib/python3.8/site-packages (from -r requirements.txt (line 8)) (1.7.1)\n",
      "Requirement already satisfied: typing-extensions~=3.7.4 in ./venv/lib/python3.8/site-packages (from tensorflow==2.5.1->-r requirements.txt (line 1)) (3.7.4.3)\n",
      "Requirement already satisfied: opt-einsum~=3.3.0 in ./venv/lib/python3.8/site-packages (from tensorflow==2.5.1->-r requirements.txt (line 1)) (3.3.0)\n",
      "Requirement already satisfied: flatbuffers~=1.12.0 in ./venv/lib/python3.8/site-packages (from tensorflow==2.5.1->-r requirements.txt (line 1)) (1.12)\n",
      "Requirement already satisfied: tensorflow-estimator<2.6.0,>=2.5.0 in ./venv/lib/python3.8/site-packages (from tensorflow==2.5.1->-r requirements.txt (line 1)) (2.5.0)\n",
      "Requirement already satisfied: absl-py~=0.10 in ./venv/lib/python3.8/site-packages (from tensorflow==2.5.1->-r requirements.txt (line 1)) (0.12.0)\n",
      "Requirement already satisfied: wheel~=0.35 in ./venv/lib/python3.8/site-packages (from tensorflow==2.5.1->-r requirements.txt (line 1)) (0.37.0)\n",
      "Requirement already satisfied: astunparse~=1.6.3 in ./venv/lib/python3.8/site-packages (from tensorflow==2.5.1->-r requirements.txt (line 1)) (1.6.3)\n",
      "Requirement already satisfied: h5py~=3.1.0 in ./venv/lib/python3.8/site-packages (from tensorflow==2.5.1->-r requirements.txt (line 1)) (3.1.0)\n",
      "Requirement already satisfied: termcolor~=1.1.0 in ./venv/lib/python3.8/site-packages (from tensorflow==2.5.1->-r requirements.txt (line 1)) (1.1.0)\n",
      "Requirement already satisfied: gast==0.4.0 in ./venv/lib/python3.8/site-packages (from tensorflow==2.5.1->-r requirements.txt (line 1)) (0.4.0)\n",
      "Requirement already satisfied: wrapt~=1.12.1 in ./venv/lib/python3.8/site-packages (from tensorflow==2.5.1->-r requirements.txt (line 1)) (1.12.1)\n",
      "Requirement already satisfied: grpcio~=1.34.0 in ./venv/lib/python3.8/site-packages (from tensorflow==2.5.1->-r requirements.txt (line 1)) (1.34.1)\n",
      "Requirement already satisfied: six~=1.15.0 in ./venv/lib/python3.8/site-packages (from tensorflow==2.5.1->-r requirements.txt (line 1)) (1.15.0)\n",
      "Requirement already satisfied: tensorboard~=2.5 in ./venv/lib/python3.8/site-packages (from tensorflow==2.5.1->-r requirements.txt (line 1)) (2.6.0)\n",
      "Requirement already satisfied: google-pasta~=0.2 in ./venv/lib/python3.8/site-packages (from tensorflow==2.5.1->-r requirements.txt (line 1)) (0.2.0)\n",
      "Requirement already satisfied: keras-preprocessing~=1.1.2 in ./venv/lib/python3.8/site-packages (from tensorflow==2.5.1->-r requirements.txt (line 1)) (1.1.2)\n",
      "Requirement already satisfied: protobuf>=3.9.2 in ./venv/lib/python3.8/site-packages (from tensorflow==2.5.1->-r requirements.txt (line 1)) (3.18.0)\n",
      "Requirement already satisfied: keras-nightly~=2.5.0.dev in ./venv/lib/python3.8/site-packages (from tensorflow==2.5.1->-r requirements.txt (line 1)) (2.5.0.dev2021032900)\n",
      "Requirement already satisfied: dill in ./venv/lib/python3.8/site-packages (from tensorflow-datasets==4.1.0->-r requirements.txt (line 2)) (0.3.4)\n",
      "Requirement already satisfied: requests>=2.19.0 in ./venv/lib/python3.8/site-packages (from tensorflow-datasets==4.1.0->-r requirements.txt (line 2)) (2.26.0)\n",
      "Requirement already satisfied: attrs>=18.1.0 in ./venv/lib/python3.8/site-packages (from tensorflow-datasets==4.1.0->-r requirements.txt (line 2)) (21.2.0)\n",
      "Requirement already satisfied: promise in ./venv/lib/python3.8/site-packages (from tensorflow-datasets==4.1.0->-r requirements.txt (line 2)) (2.3)\n",
      "Requirement already satisfied: tensorflow-metadata in ./venv/lib/python3.8/site-packages (from tensorflow-datasets==4.1.0->-r requirements.txt (line 2)) (1.2.0)\n",
      "Requirement already satisfied: tqdm in ./venv/lib/python3.8/site-packages (from tensorflow-datasets==4.1.0->-r requirements.txt (line 2)) (4.62.3)\n",
      "Requirement already satisfied: future in ./venv/lib/python3.8/site-packages (from tensorflow-datasets==4.1.0->-r requirements.txt (line 2)) (0.18.2)\n",
      "Requirement already satisfied: importlib-resources in ./venv/lib/python3.8/site-packages (from tensorflow-datasets==4.1.0->-r requirements.txt (line 2)) (5.2.2)\n",
      "Requirement already satisfied: pytz>=2017.3 in ./venv/lib/python3.8/site-packages (from pandas->-r requirements.txt (line 6)) (2021.1)\n",
      "Requirement already satisfied: python-dateutil>=2.7.3 in ./venv/lib/python3.8/site-packages (from pandas->-r requirements.txt (line 6)) (2.8.2)\n",
      "Requirement already satisfied: pyparsing>=2.2.1 in ./venv/lib/python3.8/site-packages (from matplotlib->-r requirements.txt (line 7)) (2.4.7)\n",
      "Requirement already satisfied: cycler>=0.10 in ./venv/lib/python3.8/site-packages (from matplotlib->-r requirements.txt (line 7)) (0.10.0)\n",
      "Requirement already satisfied: kiwisolver>=1.0.1 in ./venv/lib/python3.8/site-packages (from matplotlib->-r requirements.txt (line 7)) (1.3.2)\n",
      "Requirement already satisfied: idna<4,>=2.5 in ./venv/lib/python3.8/site-packages (from requests>=2.19.0->tensorflow-datasets==4.1.0->-r requirements.txt (line 2)) (3.2)\n",
      "Requirement already satisfied: charset-normalizer~=2.0.0 in ./venv/lib/python3.8/site-packages (from requests>=2.19.0->tensorflow-datasets==4.1.0->-r requirements.txt (line 2)) (2.0.6)\n",
      "Requirement already satisfied: certifi>=2017.4.17 in ./venv/lib/python3.8/site-packages (from requests>=2.19.0->tensorflow-datasets==4.1.0->-r requirements.txt (line 2)) (2021.5.30)\n",
      "Requirement already satisfied: setuptools>=41.0.0 in ./venv/lib/python3.8/site-packages (from tensorboard~=2.5->tensorflow==2.5.1->-r requirements.txt (line 1)) (58.1.0)\n",
      "Requirement already satisfied: markdown>=2.6.8 in ./venv/lib/python3.8/site-packages (from tensorboard~=2.5->tensorflow==2.5.1->-r requirements.txt (line 1)) (3.3.4)\n",
      "Requirement already satisfied: werkzeug>=0.11.15 in ./venv/lib/python3.8/site-packages (from tensorboard~=2.5->tensorflow==2.5.1->-r requirements.txt (line 1)) (2.0.1)\n",
      "Requirement already satisfied: tensorboard-data-server<0.7.0,>=0.6.0 in ./venv/lib/python3.8/site-packages (from tensorboard~=2.5->tensorflow==2.5.1->-r requirements.txt (line 1)) (0.6.1)\n",
      "Requirement already satisfied: tensorboard-plugin-wit>=1.6.0 in ./venv/lib/python3.8/site-packages (from tensorboard~=2.5->tensorflow==2.5.1->-r requirements.txt (line 1)) (1.8.0)\n",
      "Requirement already satisfied: google-auth<2,>=1.6.3 in ./venv/lib/python3.8/site-packages (from tensorboard~=2.5->tensorflow==2.5.1->-r requirements.txt (line 1)) (1.35.0)\n",
      "Requirement already satisfied: google-auth-oauthlib<0.5,>=0.4.1 in ./venv/lib/python3.8/site-packages (from tensorboard~=2.5->tensorflow==2.5.1->-r requirements.txt (line 1)) (0.4.6)\n",
      "Requirement already satisfied: pyasn1-modules>=0.2.1 in ./venv/lib/python3.8/site-packages (from google-auth<2,>=1.6.3->tensorboard~=2.5->tensorflow==2.5.1->-r requirements.txt (line 1)) (0.2.8)\n",
      "Requirement already satisfied: cachetools<5.0,>=2.0.0 in ./venv/lib/python3.8/site-packages (from google-auth<2,>=1.6.3->tensorboard~=2.5->tensorflow==2.5.1->-r requirements.txt (line 1)) (4.2.2)\n",
      "Requirement already satisfied: rsa<5,>=3.1.4 in ./venv/lib/python3.8/site-packages (from google-auth<2,>=1.6.3->tensorboard~=2.5->tensorflow==2.5.1->-r requirements.txt (line 1)) (4.7.2)\n",
      "Requirement already satisfied: requests-oauthlib>=0.7.0 in ./venv/lib/python3.8/site-packages (from google-auth-oauthlib<0.5,>=0.4.1->tensorboard~=2.5->tensorflow==2.5.1->-r requirements.txt (line 1)) (1.3.0)\n",
      "Requirement already satisfied: pyasn1<0.5.0,>=0.4.6 in ./venv/lib/python3.8/site-packages (from pyasn1-modules>=0.2.1->google-auth<2,>=1.6.3->tensorboard~=2.5->tensorflow==2.5.1->-r requirements.txt (line 1)) (0.4.8)\n",
      "Requirement already satisfied: oauthlib>=3.0.0 in ./venv/lib/python3.8/site-packages (from requests-oauthlib>=0.7.0->google-auth-oauthlib<0.5,>=0.4.1->tensorboard~=2.5->tensorflow==2.5.1->-r requirements.txt (line 1)) (3.1.1)\n",
      "Requirement already satisfied: zipp>=3.1.0 in ./venv/lib/python3.8/site-packages (from importlib-resources->tensorflow-datasets==4.1.0->-r requirements.txt (line 2)) (3.5.0)\n",
      "Requirement already satisfied: googleapis-common-protos<2,>=1.52.0 in ./venv/lib/python3.8/site-packages (from tensorflow-metadata->tensorflow-datasets==4.1.0->-r requirements.txt (line 2)) (1.53.0)\n"
     ]
    }
   ],
   "source": [
    "import sys\n",
    "!{sys.executable} -m pip install -r requirements.txt"
   ]
  },
  {
   "cell_type": "code",
   "execution_count": 5,
   "id": "92429bcb-b69d-4bd1-8724-66fe7c6c56d0",
   "metadata": {},
   "outputs": [
    {
     "name": "stdout",
     "output_type": "stream",
     "text": [
      "Python version: 3.8.5\n"
     ]
    }
   ],
   "source": [
    "from platform import python_version\n",
    "\n",
    "print(f\"Python version: {python_version()}\")"
   ]
  },
  {
   "cell_type": "code",
   "execution_count": 12,
   "id": "8283901b-5892-448c-91df-dd672502758f",
   "metadata": {},
   "outputs": [
    {
     "name": "stdout",
     "output_type": "stream",
     "text": [
      "TensorFlow version: 2.5.1\n"
     ]
    }
   ],
   "source": [
    "import tensorflow as tf\n",
    "print(f\"TensorFlow version: {tf.__version__}\")"
   ]
  },
  {
   "cell_type": "code",
   "execution_count": 7,
   "id": "92b025db-d73d-4772-b685-3a8b87d710b2",
   "metadata": {},
   "outputs": [
    {
     "name": "stdout",
     "output_type": "stream",
     "text": [
      "keras version: 2.5.0\n"
     ]
    }
   ],
   "source": [
    "from tensorflow import keras\n",
    "print(f\"keras version: {keras.__version__}\")"
   ]
  },
  {
   "cell_type": "code",
   "execution_count": 8,
   "id": "05dc586c-efdd-4148-a64c-8f298e156e00",
   "metadata": {},
   "outputs": [
    {
     "name": "stdout",
     "output_type": "stream",
     "text": [
      "MatplotLib version: 3.4.3\n"
     ]
    }
   ],
   "source": [
    "import matplotlib as mpl\n",
    "print(f\"MatplotLib version: {mpl.__version__}\")"
   ]
  },
  {
   "cell_type": "code",
   "execution_count": 9,
   "id": "71603b23-f336-4584-b462-8fccd9231578",
   "metadata": {},
   "outputs": [
    {
     "name": "stdout",
     "output_type": "stream",
     "text": [
      "Numpy version: 1.19.5\n"
     ]
    }
   ],
   "source": [
    "import numpy as np\n",
    "print(f\"Numpy version: {np.__version__}\")"
   ]
  },
  {
   "cell_type": "code",
   "execution_count": 10,
   "id": "5ca86527-005a-4b9b-834b-f98634f1b133",
   "metadata": {},
   "outputs": [
    {
     "name": "stdout",
     "output_type": "stream",
     "text": [
      "Pandas version: 1.3.3\n"
     ]
    }
   ],
   "source": [
    "import pandas as pd\n",
    "print(f\"Pandas version: {pd.__version__}\")"
   ]
  },
  {
   "cell_type": "markdown",
   "metadata": {},
   "source": [
    "## List CPU, GPU, TPU\n",
    "- [https://www.tensorflow.org/api_docs/python/tf/config/list_physical_devices](https://www.tensorflow.org/api_docs/python/tf/config/list_physical_devices)\n",
    "- [https://www.tensorflow.org/api_docs/python/tf/config/list_logical_devices](https://www.tensorflow.org/api_docs/python/tf/config/list_logical_devices)"
   ]
  },
  {
   "cell_type": "code",
   "execution_count": 11,
   "metadata": {},
   "outputs": [
    {
     "name": "stdout",
     "output_type": "stream",
     "text": [
      "Num CPUs Available: 1\n",
      "Num GPUs Available: 0\n",
      "Num TPUs Available: 0\n",
      "Available: [PhysicalDevice(name='/physical_device:CPU:0', device_type='CPU')]\n"
     ]
    }
   ],
   "source": [
    "print(f\"Num CPUs Available: {len(tf.config.list_physical_devices('CPU'))}\")\n",
    "print(f\"Num GPUs Available: {len(tf.config.list_physical_devices('GPU'))}\")\n",
    "print(f\"Num TPUs Available: {len(tf.config.list_physical_devices('TPU'))}\")\n",
    "print(f\"Available: {tf.config.list_physical_devices()}\")"
   ]
  }
 ],
 "metadata": {
  "interpreter": {
   "hash": "c914b52c65569099859295c2cc331f400902000b420f75a131baffafcc5190ac"
  },
  "kernelspec": {
   "display_name": "Python 3.8.5 64-bit ('venv': venv)",
   "name": "python3"
  },
  "language_info": {
   "codemirror_mode": {
    "name": "ipython",
    "version": 3
   },
   "file_extension": ".py",
   "mimetype": "text/x-python",
   "name": "python",
   "nbconvert_exporter": "python",
   "pygments_lexer": "ipython3",
   "version": "3.8.5"
  },
  "widgets": {
   "application/vnd.jupyter.widget-state+json": {
    "state": {},
    "version_major": 2,
    "version_minor": 0
   }
  }
 },
 "nbformat": 4,
 "nbformat_minor": 5
}
