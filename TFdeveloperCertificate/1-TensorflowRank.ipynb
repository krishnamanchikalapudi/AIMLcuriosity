{
 "cells": [
  {
   "cell_type": "markdown",
   "id": "d7da48db-c4c3-4480-ac03-44cca1965570",
   "metadata": {},
   "source": [
    "# Tensorflow Rank examples"
   ]
  },
  {
   "cell_type": "code",
   "execution_count": 1,
   "id": "87f0f401-31da-41fe-ac66-f64b383b4140",
   "metadata": {},
   "outputs": [],
   "source": [
    "import tensorflow as tf\n",
    "import numpy as np"
   ]
  },
  {
   "cell_type": "markdown",
   "id": "12a587ed-3648-486b-b9c9-a911c165423d",
   "metadata": {},
   "source": [
    "##  Rank 0: Scalar (magnitude only)\n",
    "A 0-D tensor"
   ]
  },
  {
   "cell_type": "code",
   "execution_count": 2,
   "id": "6f4595be-375e-4ef5-a1e2-a573596f8f32",
   "metadata": {},
   "outputs": [
    {
     "name": "stdout",
     "output_type": "stream",
     "text": [
      "450\n",
      "Rank: 0 for ()\n"
     ]
    }
   ],
   "source": [
    "s = 450\n",
    "print(s)\n",
    "print(f\"Rank: {tf.rank(s)} for {np.shape(s)}\")"
   ]
  },
  {
   "cell_type": "markdown",
   "id": "ef83d2bf-31f9-43f7-8094-3cd73d7a7c24",
   "metadata": {},
   "source": [
    "## Rank 1: Vector (magnitude and direction)\n",
    "A 1-D tensor with shape [5]."
   ]
  },
  {
   "cell_type": "code",
   "execution_count": 3,
   "id": "531b48ea-b205-4086-beb1-779c95f5ff70",
   "metadata": {},
   "outputs": [
    {
     "name": "stdout",
     "output_type": "stream",
     "text": [
      "[3, 5, 6, 2, 8]\n",
      "Rank: 1 for (5,)\n"
     ]
    }
   ],
   "source": [
    "v = [3, 5, 6, 2, 8]\n",
    "print(v)\n",
    "print(f\"Rank: {tf.rank(v)} for {np.shape(v)}\")"
   ]
  },
  {
   "cell_type": "markdown",
   "id": "9c798a36-d678-40bc-bffc-7d75069b221f",
   "metadata": {},
   "source": [
    "## Rank 2: Matrix (table of numbers)\n",
    "A 2-D tensor with shape [3, 3]."
   ]
  },
  {
   "cell_type": "code",
   "execution_count": 4,
   "id": "8720c4a3-0262-41f3-bc5b-7376d2aa0e42",
   "metadata": {},
   "outputs": [
    {
     "name": "stdout",
     "output_type": "stream",
     "text": [
      "[[1, 2, 3], [4, 5, 6], [7, 8, 9]]\n",
      "Rank: 2 for (3, 3)\n"
     ]
    }
   ],
   "source": [
    "m = [[1, 2, 3], [4, 5, 6], [7, 8, 9]]\n",
    "print(m)\n",
    "print(f\"Rank: {tf.rank(m)} for {np.shape(m)}\")"
   ]
  },
  {
   "cell_type": "markdown",
   "id": "a04f3f31-c29f-4a77-afba-5ac64e58df1b",
   "metadata": {},
   "source": [
    "## Rank 3: 3-Tensor (cube of numbers)"
   ]
  },
  {
   "cell_type": "code",
   "execution_count": 5,
   "id": "2916de80-ab37-4b8a-9d73-9060c24e216e",
   "metadata": {},
   "outputs": [
    {
     "name": "stdout",
     "output_type": "stream",
     "text": [
      "[[[2], [4], [6]], [[8], [10], [12]], [[14], [16], [18]]]\n",
      "Rank: 3 for (3, 3, 1)\n"
     ]
    }
   ],
   "source": [
    "t = [[[2], [4], [6]], [[8], [10], [12]], [[14], [16], [18]]]\n",
    "print(t)\n",
    "print(f\"Rank: {tf.rank(t)} for {np.shape(t)}\")"
   ]
  }
 ],
 "metadata": {
  "kernelspec": {
   "display_name": "Python 3",
   "language": "python",
   "name": "python3"
  },
  "language_info": {
   "codemirror_mode": {
    "name": "ipython",
    "version": 3
   },
   "file_extension": ".py",
   "mimetype": "text/x-python",
   "name": "python",
   "nbconvert_exporter": "python",
   "pygments_lexer": "ipython3",
   "version": "3.8.5"
  },
  "widgets": {
   "application/vnd.jupyter.widget-state+json": {
    "state": {},
    "version_major": 2,
    "version_minor": 0
   }
  }
 },
 "nbformat": 4,
 "nbformat_minor": 5
}
