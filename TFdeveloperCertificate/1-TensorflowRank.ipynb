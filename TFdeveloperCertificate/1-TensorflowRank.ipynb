{
 "cells": [
  {
   "cell_type": "markdown",
   "metadata": {},
   "source": [
    "# Tensorflow Rank examples"
   ]
  },
  {
   "cell_type": "code",
   "execution_count": 11,
   "metadata": {},
   "outputs": [],
   "source": [
    "import tensorflow as tf\n",
    "import numpy as np"
   ]
  },
  {
   "cell_type": "markdown",
   "metadata": {},
   "source": [
    "##  Rank 0: Scalar (magnitude only)\n",
    "A 0-D tensor"
   ]
  },
  {
   "cell_type": "code",
   "execution_count": 12,
   "metadata": {},
   "outputs": [
    {
     "name": "stdout",
     "output_type": "stream",
     "text": [
      "450\n",
      "Rank: 0 for ()\n",
      "Rank: 0 for ()\n"
     ]
    }
   ],
   "source": [
    "s = 450\n",
    "print(s)\n",
    "print(f\"Rank: {tf.rank(s)} for {np.shape(s)}\")\n",
    "\n",
    "tf_s = tf.constant(s)\n",
    "# print(tf_s)\n",
    "print(f\"Rank: {tf.rank(tf_s)} for {np.shape(tf_s)}\")\n"
   ]
  },
  {
   "cell_type": "markdown",
   "metadata": {},
   "source": [
    "## Rank 1: Vector (magnitude and direction)\n",
    "A 1-D tensor with shape [5]."
   ]
  },
  {
   "cell_type": "code",
   "execution_count": 13,
   "metadata": {},
   "outputs": [
    {
     "name": "stdout",
     "output_type": "stream",
     "text": [
      "[3, 5, 6, 2, 8]\n",
      "Rank: 1 for (5,)\n",
      "Rank: 1 for (5,)\n"
     ]
    }
   ],
   "source": [
    "v = [3, 5, 6, 2, 8]\n",
    "print(v)\n",
    "print(f\"Rank: {tf.rank(v)} for {np.shape(v)}\")\n",
    "\n",
    "tf_v = tf.constant(v)\n",
    "# print(tf_v)\n",
    "print(f\"Rank: {tf.rank(tf_v)} for {np.shape(tf_v)}\")"
   ]
  },
  {
   "cell_type": "markdown",
   "metadata": {},
   "source": [
    "## Rank 2: Matrix (table of numbers)\n",
    "A 2-D tensor with shape [3, 3]."
   ]
  },
  {
   "cell_type": "code",
   "execution_count": 14,
   "metadata": {},
   "outputs": [
    {
     "name": "stdout",
     "output_type": "stream",
     "text": [
      "[[1, 2, 3], [4, 5, 6], [7, 8, 9]]\n",
      "Rank: 2 for (3, 3)\n",
      "Rank: 2 for (3, 3)\n"
     ]
    }
   ],
   "source": [
    "m = [[1, 2, 3], [4, 5, 6], [7, 8, 9]]\n",
    "print(m)\n",
    "print(f\"Rank: {tf.rank(m)} for {np.shape(m)}\")\n",
    "\n",
    "tf_m = tf.constant(m)\n",
    "# print(tf_m)\n",
    "print(f\"Rank: {tf.rank(tf_m)} for {np.shape(tf_m)}\")\n"
   ]
  },
  {
   "cell_type": "markdown",
   "metadata": {},
   "source": [
    "## Rank 3: 3-Tensor (cube of numbers)"
   ]
  },
  {
   "cell_type": "code",
   "execution_count": 15,
   "metadata": {},
   "outputs": [
    {
     "name": "stdout",
     "output_type": "stream",
     "text": [
      "[[[2], [4], [6]], [[8], [10], [12]], [[14], [16], [18]]]\n",
      "Rank: 3 for (3, 3, 1)\n",
      "Rank: 3 for (3, 3, 1)\n"
     ]
    }
   ],
   "source": [
    "t = [[[2], [4], [6]], [[8], [10], [12]], [[14], [16], [18]]]\n",
    "print(t)\n",
    "print(f\"Rank: {tf.rank(t)} for {np.shape(t)}\")\n",
    "\n",
    "tf_t = tf.constant(t)\n",
    "# print(tf_t)\n",
    "print(f\"Rank: {tf.rank(tf_t)} for {np.shape(tf_t)}\")\n"
   ]
  }
 ],
 "metadata": {
  "interpreter": {
   "hash": "082e9a3bcad0a290d0001e938aa60b99250c6c2ef33a923c00b70f9826caf4b7"
  },
  "kernelspec": {
   "display_name": "Python 3.8.5 64-bit",
   "name": "python3"
  },
  "language_info": {
   "codemirror_mode": {
    "name": "ipython",
    "version": 3
   },
   "file_extension": ".py",
   "mimetype": "text/x-python",
   "name": "python",
   "nbconvert_exporter": "python",
   "pygments_lexer": "ipython3",
   "version": "3.8.5"
  },
  "widgets": {
   "application/vnd.jupyter.widget-state+json": {
    "state": {},
    "version_major": 2,
    "version_minor": 0
   }
  }
 },
 "nbformat": 4,
 "nbformat_minor": 5
}
