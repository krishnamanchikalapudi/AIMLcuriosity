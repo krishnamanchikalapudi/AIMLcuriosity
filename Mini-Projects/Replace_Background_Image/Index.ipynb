{
 "cells": [
  {
   "cell_type": "markdown",
   "id": "cbcd3378-779b-4c00-a70b-de579d4446cc",
   "metadata": {},
   "source": [
    "# Introduction\n",
    "\n",
    "I want to replace video's background to be modified as there are so many other interruptions in the background or the background colour doesn’t suit the person due to which background or the color needs to be modified. So, I use the real-time background replacement technique to substitute the backgrounds and add replace them with the desired images"
   ]
  },
  {
   "cell_type": "code",
   "execution_count": 1,
   "id": "2357cd15-aea6-49be-941e-745b7fe4d35b",
   "metadata": {},
   "outputs": [],
   "source": [
    "import os\n",
    "import warnings\n",
    "warnings.filterwarnings('ignore')\n",
    "\n",
    "# BEGIN: fix Python or Notebook SSL CERTIFICATE_VERIFY_FAILED\n",
    "import os, ssl\n",
    "if (not os.environ.get('PYTHONHTTPSVERIFY', '') and getattr(ssl, '_create_unverified_context', None)):\n",
    "    ssl._create_default_https_context = ssl._create_unverified_context\n",
    "# END: fix Python or Notebook SSL CERTIFICATE_VERIFY_FAILED"
   ]
  },
  {
   "cell_type": "markdown",
   "id": "ee391461-6545-43a9-912b-77e47d5e15ca",
   "metadata": {},
   "source": [
    "## Prerequisite"
   ]
  },
  {
   "cell_type": "code",
   "execution_count": 2,
   "id": "9f6c853d-0de1-4637-900c-c48aafb19d83",
   "metadata": {},
   "outputs": [
    {
     "name": "stdout",
     "output_type": "stream",
     "text": [
      "\u001b[33mWARNING: Ignoring invalid distribution -ornado (/Library/Frameworks/Python.framework/Versions/3.8/lib/python3.8/site-packages)\u001b[0m\n",
      "\u001b[33mWARNING: Ignoring invalid distribution -ornado (/Library/Frameworks/Python.framework/Versions/3.8/lib/python3.8/site-packages)\u001b[0m\n",
      "\u001b[33mWARNING: Ignoring invalid distribution -ornado (/Library/Frameworks/Python.framework/Versions/3.8/lib/python3.8/site-packages)\u001b[0m\n",
      "\u001b[33mWARNING: Ignoring invalid distribution -ornado (/Library/Frameworks/Python.framework/Versions/3.8/lib/python3.8/site-packages)\u001b[0m\n",
      "\u001b[33mWARNING: Ignoring invalid distribution -ornado (/Library/Frameworks/Python.framework/Versions/3.8/lib/python3.8/site-packages)\u001b[0m\n"
     ]
    }
   ],
   "source": [
    "!pip install -U -q OpenCV-python cvzone mediapipe numpy"
   ]
  },
  {
   "cell_type": "markdown",
   "id": "14e20a3e-218b-4a45-b6bf-74bd9ab520c4",
   "metadata": {},
   "source": [
    "## Imports"
   ]
  },
  {
   "cell_type": "code",
   "execution_count": 3,
   "id": "a6ca8d3e-d443-4a66-9a02-214a6aa0d988",
   "metadata": {},
   "outputs": [],
   "source": [
    "import cv2\n",
    "import numpy as np\n",
    "import cvzone\n",
    "from cvzone.SelfiSegmentationModule import SelfiSegmentation"
   ]
  },
  {
   "cell_type": "markdown",
   "id": "afff6cfc-7c8b-4c2a-bb6e-34f7bcfadf8e",
   "metadata": {},
   "source": [
    "## check webcam support"
   ]
  },
  {
   "cell_type": "code",
   "execution_count": 4,
   "id": "f22c5037-6562-4c4e-996a-24641400d6e9",
   "metadata": {},
   "outputs": [],
   "source": [
    "def test_webcam(width=640, height=480):\n",
    "    print(f\"Image: width = {width}, height={height}\")\n",
    "    img = 255 * np.ones((height, width, 3), dtype=np.uint8)\n",
    "    \n",
    "    cap = cv2.VideoCapture(0)\n",
    "    # Check if the webcam is opened correctly\n",
    "    if not cap.isOpened():\n",
    "        raise IOError(\"Cannot open webcam\")\n",
    "    \n",
    "    cur_char = -1\n",
    "    prev_char = -1\n",
    "\n",
    "    while True:\n",
    "        # Read the current frame from webcam\n",
    "        ret, frame = cap.read()\n",
    "        # Resize the captured image\n",
    "        frame = cv2.resize(frame, None, fx=0.5, fy=0.5, interpolation=cv2.INTER_AREA)\n",
    "        cv2.imshow('Input', frame)\n",
    "\n",
    "        c = cv2.waitKey(10)\n",
    "        if c == 27:   # 27 is ASCII value of Esc\n",
    "            print(f\"pressed ESC\")\n",
    "            break\n",
    "        \n",
    "        if c > -1 and c != prev_char:\n",
    "            cur_char = c\n",
    "        prev_char = c\n",
    "\n",
    "        if cur_char == ord('g'):\n",
    "            output = cv2.cvtColor(frame, cv2.COLOR_BGR2GRAY)\n",
    "        elif cur_char == ord('y'):\n",
    "            output = cv2.cvtColor(frame, cv2.COLOR_BGR2YUV)\n",
    "        elif cur_char == ord('h'):\n",
    "            output = cv2.cvtColor(frame, cv2.COLOR_BGR2HSV)\n",
    "        else:\n",
    "            output = frame\n",
    "\n",
    "        # cv2.imshow('Webcam', output)\n",
    "        cv2.imshow('Input window', img)\n",
    "\n",
    "    cap.release()\n",
    "    cv2.destroyAllWindows()"
   ]
  },
  {
   "cell_type": "code",
   "execution_count": 5,
   "id": "85d8f17b-b8f9-4a63-9a10-566c5579dbff",
   "metadata": {},
   "outputs": [],
   "source": [
    "# test_webcam(640, 480)"
   ]
  },
  {
   "cell_type": "code",
   "execution_count": null,
   "id": "3e1b1bd1-a7ea-414d-9b1d-d09871e4e831",
   "metadata": {},
   "outputs": [],
   "source": []
  }
 ],
 "metadata": {
  "kernelspec": {
   "display_name": "Python 3",
   "language": "python",
   "name": "python3"
  },
  "language_info": {
   "codemirror_mode": {
    "name": "ipython",
    "version": 3
   },
   "file_extension": ".py",
   "mimetype": "text/x-python",
   "name": "python",
   "nbconvert_exporter": "python",
   "pygments_lexer": "ipython3",
   "version": "3.8.5"
  },
  "widgets": {
   "application/vnd.jupyter.widget-state+json": {
    "state": {},
    "version_major": 2,
    "version_minor": 0
   }
  }
 },
 "nbformat": 4,
 "nbformat_minor": 5
}
