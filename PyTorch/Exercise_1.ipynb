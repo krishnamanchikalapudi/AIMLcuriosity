{
 "cells": [
  {
   "cell_type": "markdown",
   "metadata": {
    "id": "8BYLSP0fW5uN"
   },
   "source": [
    "# Exercise 1: Image Classifier (AlexNet)"
   ]
  },
  {
   "cell_type": "markdown",
   "metadata": {
    "id": "shQlWCbJTY-x"
   },
   "source": [
    "# Download required files to Colab. \n",
    "- Note: they will be deleted when notebook instance is closed"
   ]
  },
  {
   "cell_type": "code",
   "execution_count": 2,
   "metadata": {
    "id": "BHzShw88TPoB"
   },
   "outputs": [],
   "source": [
    "import sys, platform, os, ssl\n",
    "# fix Python SSL CERTIFICATE_VERIFY_FAILED\n",
    "if (not os.environ.get('PYTHONHTTPSVERIFY', '') and getattr(ssl, '_create_unverified_context', None)):\n",
    "    ssl._create_default_https_context = ssl._create_unverified_context\n",
    "\n",
    "\n",
    "import urllib.request\n",
    "root = \"https://raw.githubusercontent.com/joe-papa/pytorch-beginners-course/main/assets/\"\n",
    "urls  = [\n",
    "  [root+\"tensor_batch_1.pt\", \"tensor_batch_1.pt\"],\n",
    "  [root+\"tensor_batch_2.pt\", \"tensor_batch_2.pt\"],\n",
    "  [root+\"tensor_batch_3.pt\", \"tensor_batch_3.pt\"],\n",
    "  [root+\"tensor_batch_4.pt\", \"tensor_batch_4.pt\"],\n",
    "  [root+\"tensor_batch_1-4.pt\", \"tensor_batch_1-4.pt\"],\n",
    "  [root+\"imagenet_class_labels.txt\", \"imagenet_class_labels.txt\"],\n",
    "  ]\n",
    "\n",
    "for url, fpath in urls:\n",
    "  urllib.request.urlretrieve(url, fpath)\n"
   ]
  },
  {
   "cell_type": "markdown",
   "metadata": {
    "id": "c95HA3oqVa94"
   },
   "source": [
    "# Image Classifier"
   ]
  },
  {
   "cell_type": "code",
   "execution_count": null,
   "metadata": {
    "id": "WRCkTZBBP1Si"
   },
   "outputs": [],
   "source": [
    "import torch\n",
    "from torchvision import models\n",
    "import matplotlib.pyplot as plt"
   ]
  },
  {
   "cell_type": "code",
   "execution_count": null,
   "metadata": {
    "colab": {
     "base_uri": "https://localhost:8080/"
    },
    "id": "g_0lx5tfVQEF",
    "outputId": "934c392d-042f-4ac2-f7ae-a9116c83cb05"
   },
   "outputs": [],
   "source": [
    "img_tensor_batch = torch.load('tensor_batch_1.pt')\n",
    "img_tensor_batch.shape"
   ]
  },
  {
   "cell_type": "code",
   "execution_count": null,
   "metadata": {
    "colab": {
     "base_uri": "https://localhost:8080/",
     "height": 303
    },
    "id": "8aiDDkTEYaei",
    "outputId": "21bb7c93-ff80-4710-94b9-a63c5b1f0bc8"
   },
   "outputs": [],
   "source": [
    "plt.imshow(img_tensor_batch.squeeze().permute(1,2,0)/img_tensor_batch.abs().max())"
   ]
  },
  {
   "cell_type": "code",
   "execution_count": null,
   "metadata": {
    "colab": {
     "base_uri": "https://localhost:8080/",
     "height": 83,
     "referenced_widgets": [
      "eec2bc80614548da907cfe9abd6641e9",
      "b76ea1201ad64510b1b3f72a482137f9",
      "467d4fd58bb941fd8cb9888116dde363",
      "4a36f838b6444cf897ded414f0896818",
      "18ce5c4d32f84e4dbae400915673ff3b",
      "928ae2c209c7415abed51d58befa4602",
      "575b33d3f028465195681f022a47f45e",
      "5a5ed518646341548392e4fd18cb0296"
     ]
    },
    "id": "pJKWlUg-VdWG",
    "outputId": "bd767098-f79b-4065-a78a-4f1d6e951c36"
   },
   "outputs": [],
   "source": [
    "model = models.alexnet(pretrained=True)\n",
    "model.eval();"
   ]
  },
  {
   "cell_type": "code",
   "execution_count": null,
   "metadata": {
    "colab": {
     "base_uri": "https://localhost:8080/"
    },
    "id": "U-ONzgEYVwGW",
    "outputId": "a840dfba-5322-4442-d7b9-5b3467c5fad5"
   },
   "outputs": [],
   "source": [
    "y = model(img_tensor_batch)\n",
    "print(y.shape)"
   ]
  },
  {
   "cell_type": "code",
   "execution_count": null,
   "metadata": {
    "colab": {
     "base_uri": "https://localhost:8080/"
    },
    "id": "LI9kYp4hV18V",
    "outputId": "03da6212-a390-49f6-9d71-3d88762909d2"
   },
   "outputs": [],
   "source": [
    "_, index = y.max(1)\n",
    "print(index)"
   ]
  },
  {
   "cell_type": "code",
   "execution_count": null,
   "metadata": {
    "id": "9IL5qpkgXR6l"
   },
   "outputs": [],
   "source": [
    "with open('imagenet_class_labels.txt', 'r') as f:\n",
    "  labels = eval(f.read())"
   ]
  },
  {
   "cell_type": "code",
   "execution_count": null,
   "metadata": {
    "colab": {
     "base_uri": "https://localhost:8080/",
     "height": 35
    },
    "id": "9XrY_f9EYPCl",
    "outputId": "faf0c569-b13a-4b70-f82b-718f68676c93"
   },
   "outputs": [],
   "source": [
    "labels[index.item()]"
   ]
  },
  {
   "cell_type": "markdown",
   "metadata": {
    "id": "LnTmN5SGeq7G"
   },
   "source": [
    "# Go back and load tensor_batch_2.pt"
   ]
  },
  {
   "cell_type": "markdown",
   "metadata": {
    "id": "E0vu7p0rdSrX"
   },
   "source": [
    "# Short Version"
   ]
  },
  {
   "cell_type": "code",
   "execution_count": null,
   "metadata": {
    "id": "sW2NPdZwYYYl"
   },
   "outputs": [],
   "source": [
    "import torch\n",
    "from torchvision import models\n",
    "import matplotlib.pyplot as plt\n",
    "\n",
    "model = models.alexnet(pretrained=True)\n",
    "model.eval()\n",
    "with open('imagenet_class_labels.txt', 'r') as f:\n",
    "  labels = eval(f.read())\n",
    "\n",
    "def classify_tensor_batch(batch_file):\n",
    "  img_tensor_batch = torch.load(batch_file)\n",
    "  y = model(img_tensor_batch)\n",
    "  _, index = y.max(1)\n",
    "  return [labels[idx.item()] for idx in index]"
   ]
  },
  {
   "cell_type": "code",
   "execution_count": null,
   "metadata": {
    "colab": {
     "base_uri": "https://localhost:8080/"
    },
    "id": "8V2n3jUCbIh2",
    "outputId": "72ad58fe-a93c-4395-d64a-7abcade0eeb3"
   },
   "outputs": [],
   "source": [
    "classify_tensor_batch('tensor_batch_1.pt')"
   ]
  },
  {
   "cell_type": "markdown",
   "metadata": {
    "id": "FSllCG_oe3K3"
   },
   "source": [
    "# Go back and run for\n",
    "- tensor_batch_2.pt\n",
    "- tensor_batch_3.pt\n",
    "- tensor_batch_4.pt\n",
    "- tensor_batch_1-4.pt"
   ]
  },
  {
   "cell_type": "markdown",
   "metadata": {
    "id": "I2YEXUm0fWeA"
   },
   "source": [
    "# Try Later:\n",
    "- Add code to classify_tensor_batch() that plots image"
   ]
  },
  {
   "cell_type": "code",
   "execution_count": null,
   "metadata": {
    "id": "MIN7X0GafEjJ"
   },
   "outputs": [],
   "source": []
  },
  {
   "cell_type": "code",
   "execution_count": null,
   "metadata": {},
   "outputs": [],
   "source": []
  }
 ],
 "metadata": {
  "colab": {
   "name": "Exercise_1.ipynb",
   "provenance": []
  },
  "kernelspec": {
   "display_name": "Python 3",
   "language": "python",
   "name": "python3"
  },
  "language_info": {
   "codemirror_mode": {
    "name": "ipython",
    "version": 3
   },
   "file_extension": ".py",
   "mimetype": "text/x-python",
   "name": "python",
   "nbconvert_exporter": "python",
   "pygments_lexer": "ipython3",
   "version": "3.8.5"
  },
  "widgets": {
   "application/vnd.jupyter.widget-state+json": {
    "18ce5c4d32f84e4dbae400915673ff3b": {
     "model_module": "@jupyter-widgets/controls",
     "model_name": "ProgressStyleModel",
     "state": {
      "_model_module": "@jupyter-widgets/controls",
      "_model_module_version": "1.5.0",
      "_model_name": "ProgressStyleModel",
      "_view_count": null,
      "_view_module": "@jupyter-widgets/base",
      "_view_module_version": "1.2.0",
      "_view_name": "StyleView",
      "bar_color": null,
      "description_width": "initial"
     }
    },
    "467d4fd58bb941fd8cb9888116dde363": {
     "model_module": "@jupyter-widgets/controls",
     "model_name": "FloatProgressModel",
     "state": {
      "_dom_classes": [],
      "_model_module": "@jupyter-widgets/controls",
      "_model_module_version": "1.5.0",
      "_model_name": "FloatProgressModel",
      "_view_count": null,
      "_view_module": "@jupyter-widgets/controls",
      "_view_module_version": "1.5.0",
      "_view_name": "ProgressView",
      "bar_style": "success",
      "description": "100%",
      "description_tooltip": null,
      "layout": "IPY_MODEL_928ae2c209c7415abed51d58befa4602",
      "max": 244418560,
      "min": 0,
      "orientation": "horizontal",
      "style": "IPY_MODEL_18ce5c4d32f84e4dbae400915673ff3b",
      "value": 244418560
     }
    },
    "4a36f838b6444cf897ded414f0896818": {
     "model_module": "@jupyter-widgets/controls",
     "model_name": "HTMLModel",
     "state": {
      "_dom_classes": [],
      "_model_module": "@jupyter-widgets/controls",
      "_model_module_version": "1.5.0",
      "_model_name": "HTMLModel",
      "_view_count": null,
      "_view_module": "@jupyter-widgets/controls",
      "_view_module_version": "1.5.0",
      "_view_name": "HTMLView",
      "description": "",
      "description_tooltip": null,
      "layout": "IPY_MODEL_5a5ed518646341548392e4fd18cb0296",
      "placeholder": "​",
      "style": "IPY_MODEL_575b33d3f028465195681f022a47f45e",
      "value": " 233M/233M [00:03&lt;00:00, 76.3MB/s]"
     }
    },
    "575b33d3f028465195681f022a47f45e": {
     "model_module": "@jupyter-widgets/controls",
     "model_name": "DescriptionStyleModel",
     "state": {
      "_model_module": "@jupyter-widgets/controls",
      "_model_module_version": "1.5.0",
      "_model_name": "DescriptionStyleModel",
      "_view_count": null,
      "_view_module": "@jupyter-widgets/base",
      "_view_module_version": "1.2.0",
      "_view_name": "StyleView",
      "description_width": ""
     }
    },
    "5a5ed518646341548392e4fd18cb0296": {
     "model_module": "@jupyter-widgets/base",
     "model_name": "LayoutModel",
     "state": {
      "_model_module": "@jupyter-widgets/base",
      "_model_module_version": "1.2.0",
      "_model_name": "LayoutModel",
      "_view_count": null,
      "_view_module": "@jupyter-widgets/base",
      "_view_module_version": "1.2.0",
      "_view_name": "LayoutView",
      "align_content": null,
      "align_items": null,
      "align_self": null,
      "border": null,
      "bottom": null,
      "display": null,
      "flex": null,
      "flex_flow": null,
      "grid_area": null,
      "grid_auto_columns": null,
      "grid_auto_flow": null,
      "grid_auto_rows": null,
      "grid_column": null,
      "grid_gap": null,
      "grid_row": null,
      "grid_template_areas": null,
      "grid_template_columns": null,
      "grid_template_rows": null,
      "height": null,
      "justify_content": null,
      "justify_items": null,
      "left": null,
      "margin": null,
      "max_height": null,
      "max_width": null,
      "min_height": null,
      "min_width": null,
      "object_fit": null,
      "object_position": null,
      "order": null,
      "overflow": null,
      "overflow_x": null,
      "overflow_y": null,
      "padding": null,
      "right": null,
      "top": null,
      "visibility": null,
      "width": null
     }
    },
    "928ae2c209c7415abed51d58befa4602": {
     "model_module": "@jupyter-widgets/base",
     "model_name": "LayoutModel",
     "state": {
      "_model_module": "@jupyter-widgets/base",
      "_model_module_version": "1.2.0",
      "_model_name": "LayoutModel",
      "_view_count": null,
      "_view_module": "@jupyter-widgets/base",
      "_view_module_version": "1.2.0",
      "_view_name": "LayoutView",
      "align_content": null,
      "align_items": null,
      "align_self": null,
      "border": null,
      "bottom": null,
      "display": null,
      "flex": null,
      "flex_flow": null,
      "grid_area": null,
      "grid_auto_columns": null,
      "grid_auto_flow": null,
      "grid_auto_rows": null,
      "grid_column": null,
      "grid_gap": null,
      "grid_row": null,
      "grid_template_areas": null,
      "grid_template_columns": null,
      "grid_template_rows": null,
      "height": null,
      "justify_content": null,
      "justify_items": null,
      "left": null,
      "margin": null,
      "max_height": null,
      "max_width": null,
      "min_height": null,
      "min_width": null,
      "object_fit": null,
      "object_position": null,
      "order": null,
      "overflow": null,
      "overflow_x": null,
      "overflow_y": null,
      "padding": null,
      "right": null,
      "top": null,
      "visibility": null,
      "width": null
     }
    },
    "b76ea1201ad64510b1b3f72a482137f9": {
     "model_module": "@jupyter-widgets/base",
     "model_name": "LayoutModel",
     "state": {
      "_model_module": "@jupyter-widgets/base",
      "_model_module_version": "1.2.0",
      "_model_name": "LayoutModel",
      "_view_count": null,
      "_view_module": "@jupyter-widgets/base",
      "_view_module_version": "1.2.0",
      "_view_name": "LayoutView",
      "align_content": null,
      "align_items": null,
      "align_self": null,
      "border": null,
      "bottom": null,
      "display": null,
      "flex": null,
      "flex_flow": null,
      "grid_area": null,
      "grid_auto_columns": null,
      "grid_auto_flow": null,
      "grid_auto_rows": null,
      "grid_column": null,
      "grid_gap": null,
      "grid_row": null,
      "grid_template_areas": null,
      "grid_template_columns": null,
      "grid_template_rows": null,
      "height": null,
      "justify_content": null,
      "justify_items": null,
      "left": null,
      "margin": null,
      "max_height": null,
      "max_width": null,
      "min_height": null,
      "min_width": null,
      "object_fit": null,
      "object_position": null,
      "order": null,
      "overflow": null,
      "overflow_x": null,
      "overflow_y": null,
      "padding": null,
      "right": null,
      "top": null,
      "visibility": null,
      "width": null
     }
    },
    "eec2bc80614548da907cfe9abd6641e9": {
     "model_module": "@jupyter-widgets/controls",
     "model_name": "HBoxModel",
     "state": {
      "_dom_classes": [],
      "_model_module": "@jupyter-widgets/controls",
      "_model_module_version": "1.5.0",
      "_model_name": "HBoxModel",
      "_view_count": null,
      "_view_module": "@jupyter-widgets/controls",
      "_view_module_version": "1.5.0",
      "_view_name": "HBoxView",
      "box_style": "",
      "children": [
       "IPY_MODEL_467d4fd58bb941fd8cb9888116dde363",
       "IPY_MODEL_4a36f838b6444cf897ded414f0896818"
      ],
      "layout": "IPY_MODEL_b76ea1201ad64510b1b3f72a482137f9"
     }
    }
   }
  }
 },
 "nbformat": 4,
 "nbformat_minor": 4
}
