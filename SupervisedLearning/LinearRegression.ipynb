{
 "cells": [
  {
   "cell_type": "markdown",
   "id": "ca979b60-a8db-437f-9759-fd896c436397",
   "metadata": {},
   "source": [
    "# Linear Regression"
   ]
  },
  {
   "cell_type": "markdown",
   "id": "e0f98897-7067-4173-8d94-74d3bec74852",
   "metadata": {},
   "source": [
    "## Prerequsite\n",
    "Checking for minimum python and pip version"
   ]
  },
  {
   "cell_type": "code",
   "execution_count": 1,
   "id": "bb479a16-d108-4d43-8726-70c2543f399e",
   "metadata": {},
   "outputs": [],
   "source": [
    "import platform\n",
    "\n",
    "assert platform.python_version() >= \"3.8\""
   ]
  },
  {
   "cell_type": "code",
   "execution_count": 2,
   "id": "cc74a639-8fae-4539-b434-b02f168d087d",
   "metadata": {},
   "outputs": [],
   "source": [
    "# Warnings\n",
    "import warnings\n",
    "warnings.filterwarnings('ignore')\n",
    "\n",
    "# BEGIN: fix Python or Notebook SSL CERTIFICATE_VERIFY_FAILED\n",
    "import os, ssl\n",
    "if (not os.environ.get('PYTHONHTTPSVERIFY', '') and getattr(ssl, '_create_unverified_context', None)):\n",
    "    ssl._create_default_https_context = ssl._create_unverified_context\n",
    "# END: fix Python or Notebook SSL CERTIFICATE_VERIFY_FAILED"
   ]
  },
  {
   "cell_type": "code",
   "execution_count": 3,
   "id": "8b24c55b-071d-4928-9a26-0bc0f060b449",
   "metadata": {},
   "outputs": [
    {
     "name": "stdout",
     "output_type": "stream",
     "text": [
      "\u001b[33mWARNING: Ignoring invalid distribution -ornado (/Library/Frameworks/Python.framework/Versions/3.8/lib/python3.8/site-packages)\u001b[0m\n",
      "\u001b[33mWARNING: Ignoring invalid distribution -ornado (/Library/Frameworks/Python.framework/Versions/3.8/lib/python3.8/site-packages)\u001b[0m\n",
      "\u001b[33mWARNING: Ignoring invalid distribution -ornado (/Library/Frameworks/Python.framework/Versions/3.8/lib/python3.8/site-packages)\u001b[0m\n",
      "\u001b[33mWARNING: Ignoring invalid distribution -ornado (/Library/Frameworks/Python.framework/Versions/3.8/lib/python3.8/site-packages)\u001b[0m\n",
      "\u001b[33mWARNING: Ignoring invalid distribution -ornado (/Library/Frameworks/Python.framework/Versions/3.8/lib/python3.8/site-packages)\u001b[0m\n"
     ]
    }
   ],
   "source": [
    "!pip -q install -U yfinance numpy pandas sklearn tensorflow torch"
   ]
  },
  {
   "cell_type": "code",
   "execution_count": 4,
   "id": "80f21620-bc11-40c0-9648-a3bee3edaf64",
   "metadata": {},
   "outputs": [],
   "source": [
    "import yfinance as yf\n",
    "assert yf.__version__ >= \"0.1.63\"\n",
    "\n",
    "import pandas as pd\n",
    "assert pd.__version__ >= \"1.2\"\n",
    "\n",
    "import numpy as np\n",
    "assert np.__version__ >= \"1.19\"\n",
    "\n",
    "import sklearn as skl\n",
    "assert skl.__version__ >= \"0.20\"            "
   ]
  },
  {
   "cell_type": "code",
   "execution_count": 5,
   "id": "33bb69c0-e336-430b-a6ee-15534ed49f2d",
   "metadata": {},
   "outputs": [],
   "source": [
    "import inspect\n",
    "import time\n",
    "import datetime"
   ]
  },
  {
   "cell_type": "code",
   "execution_count": 6,
   "id": "5fae4136-ae5c-459e-9b6b-3bc7b119b47e",
   "metadata": {},
   "outputs": [],
   "source": [
    "## Python code"
   ]
  },
  {
   "cell_type": "code",
   "execution_count": 7,
   "id": "ed635b7a-2f4e-4e36-9989-f2f8fe804b8d",
   "metadata": {},
   "outputs": [],
   "source": [
    "def get_stock_data(ticker, start_date, end_date):\n",
    "    \"\"\"Get stock data from Yahoo Finance\"\"\"\n",
    "    startTime = time.perf_counter()\n",
    "    try:\n",
    "        stock = yf.Ticker(ticker)\n",
    "        stock_data = stock.history(start=start_date, end=end_date)\n",
    "        return stock_data\n",
    "    except Exception:\n",
    "        print(traceback.format_exc())\n",
    "        return None\n",
    "    finally:\n",
    "        totalTime = (time.perf_counter() - startTime)\n",
    "        print(f\"METHOD: {inspect.stack()[0][3]} completed in {format(totalTime, '6.3f')} seconds or {format(totalTime / 60, '6.3f')} minutes \")"
   ]
  },
  {
   "cell_type": "code",
   "execution_count": 8,
   "id": "51f2138a-bec8-49df-9b87-d4902e8c6f56",
   "metadata": {},
   "outputs": [],
   "source": [
    "def compare(y_test, y_pred):\n",
    "    \"\"\"Compare the y_test and y_pred\"\"\"\n",
    "    startTime = time.perf_counter()\n",
    "    try:\n",
    "        y_test.drop(['index'], axis=1)\n",
    "        y_test['index'] = y_test.index\n",
    "        compare_df = pd.DataFrame({\"y_test\": y_test['Close'], \"y_pred\": y_pred['Close']})\n",
    "        return compare_df\n",
    "    finally:\n",
    "        totalTime = (time.perf_counter() - startTime)\n",
    "        print(f\"[METHOD: {inspect.stack()[0][3]} completed in {format(totalTime, '6.3f')} seconds or {format(totalTime / 60, '6.3f')} minutes \")"
   ]
  },
  {
   "cell_type": "code",
   "execution_count": 9,
   "id": "3e3ba0a6-8013-444d-a824-a7f8bdc84658",
   "metadata": {},
   "outputs": [
    {
     "name": "stdout",
     "output_type": "stream",
     "text": [
      "METHOD: get_stock_data completed in  0.264 seconds or  0.004 minutes \n",
      "\n",
      "Test set::\n",
      "X_test length:26  y_test length:26 \n",
      "\n",
      "Training set::\n",
      "X_train length:101  y_train length:101 \n"
     ]
    }
   ],
   "source": [
    "stock_data = get_stock_data(\"AAPL\", \"2021-03-01\", \"2021-08-31\")\n",
    "stock_data.reset_index(inplace=True)\n",
    "stock_data.drop(columns=[\"High\", \"Low\", \"Volume\", \"Dividends\", \"Stock Splits\"], inplace=True)\n",
    "\n",
    "from sklearn.model_selection import train_test_split\n",
    "X_train, X_test, y_train, y_test = train_test_split(stock_data[['Open']], stock_data[['Close']], test_size=.2)  # 20% test data\n",
    "# Test set\n",
    "print(f\"\\nTest set::\")\n",
    "print(f\"X_test length:{len(X_test)}  y_test length:{len(y_test)} \")\n",
    "\n",
    "# Training set\n",
    "print(f\"\\nTraining set::\")\n",
    "print(f\"X_train length:{len(X_train)}  y_train length:{len(y_train)} \")"
   ]
  },
  {
   "cell_type": "markdown",
   "id": "bb04a6ed-776f-45e6-bf58-a874d5d157e3",
   "metadata": {},
   "source": [
    "## scikit-learn model\n",
    "\n",
    "Information at https://scikit-learn.org/stable/modules/linear_model.html#generalized-linear-regression"
   ]
  },
  {
   "cell_type": "code",
   "execution_count": 15,
   "id": "ef2288cf-922e-47db-a690-3550481a42fe",
   "metadata": {},
   "outputs": [],
   "source": [
    "from sklearn.linear_model import LinearRegression as skl_LinearRegression\n",
    "\n",
    "class ScikitLinearRegression:\n",
    "    def model(self, X, y):\n",
    "        \"\"\"Linear Regression using sklearn\"\"\"\n",
    "        # print(f\"[BEGIN] METHOD: {inspect.stack()[0][3]} at {datetime.datetime.now()}\")\n",
    "        startTime = time.perf_counter()\n",
    "        try:\n",
    "            model = skl_LinearRegression()\n",
    "            model.fit(X, y)\n",
    "            return model\n",
    "        except Exception:\n",
    "            print(f\" Exception: {traceback.format_exc()}\")\n",
    "            return None\n",
    "        finally:\n",
    "            totalTime = (time.perf_counter() - startTime)\n",
    "            print(f\"METHOD: {inspect.stack()[0][3]} completed in {format(totalTime, '6.3f')} seconds or {format(totalTime / 60, '6.3f')} minutes \")\n",
    "        \n",
    "  \n",
    "    def predict(self, model, X):\n",
    "        \"\"\"Predict using the model\"\"\"\n",
    "        startTime = time.perf_counter()\n",
    "        try:\n",
    "            y_pred = model.predict(X)\n",
    "            return y_pred\n",
    "        except Exception:\n",
    "            print(f\" Exception: {traceback.format_exc()}\")\n",
    "            return None\n",
    "        finally:\n",
    "            totalTime = (time.perf_counter() - startTime)\n",
    "            print(f\"METHOD: {inspect.stack()[0][3]} completed in {format(totalTime, '6.3f')} seconds or {format(totalTime / 60, '6.3f')} minutes \")\n"
   ]
  },
  {
   "cell_type": "code",
   "execution_count": 16,
   "id": "5a0b0b0b-d126-4623-8f57-2a9b5ab7c0d6",
   "metadata": {},
   "outputs": [
    {
     "name": "stdout",
     "output_type": "stream",
     "text": [
      "METHOD: model completed in  0.020 seconds or  0.000 minutes \n",
      "METHOD: predict completed in  0.002 seconds or  0.000 minutes \n",
      "\n",
      "length:: y_test: 26  y_pred: 26\n",
      "\type:: y_test: <class 'pandas.core.frame.DataFrame'>  y_pred: <class 'pandas.core.frame.DataFrame'>\n",
      "[METHOD: compare completed in  0.003 seconds or  0.000 minutes \n"
     ]
    },
    {
     "data": {
      "text/html": [
       "<div>\n",
       "<style scoped>\n",
       "    .dataframe tbody tr th:only-of-type {\n",
       "        vertical-align: middle;\n",
       "    }\n",
       "\n",
       "    .dataframe tbody tr th {\n",
       "        vertical-align: top;\n",
       "    }\n",
       "\n",
       "    .dataframe thead th {\n",
       "        text-align: right;\n",
       "    }\n",
       "</style>\n",
       "<table border=\"1\" class=\"dataframe\">\n",
       "  <thead>\n",
       "    <tr style=\"text-align: right;\">\n",
       "      <th></th>\n",
       "      <th>y_test</th>\n",
       "      <th>y_pred</th>\n",
       "    </tr>\n",
       "  </thead>\n",
       "  <tbody>\n",
       "    <tr>\n",
       "      <th>0</th>\n",
       "      <td>133.210419</td>\n",
       "      <td>134.382837</td>\n",
       "    </tr>\n",
       "    <tr>\n",
       "      <th>1</th>\n",
       "      <td>124.720970</td>\n",
       "      <td>128.206514</td>\n",
       "    </tr>\n",
       "    <tr>\n",
       "      <th>2</th>\n",
       "      <td>149.710007</td>\n",
       "      <td>148.281829</td>\n",
       "    </tr>\n",
       "    <tr>\n",
       "      <th>3</th>\n",
       "      <td>120.823441</td>\n",
       "      <td>120.264868</td>\n",
       "    </tr>\n",
       "    <tr>\n",
       "      <th>4</th>\n",
       "      <td>146.699997</td>\n",
       "      <td>145.039654</td>\n",
       "    </tr>\n",
       "    <tr>\n",
       "      <th>5</th>\n",
       "      <td>146.730164</td>\n",
       "      <td>147.036057</td>\n",
       "    </tr>\n",
       "    <tr>\n",
       "      <th>6</th>\n",
       "      <td>131.519226</td>\n",
       "      <td>132.768523</td>\n",
       "    </tr>\n",
       "    <tr>\n",
       "      <th>7</th>\n",
       "      <td>146.089996</td>\n",
       "      <td>146.196160</td>\n",
       "    </tr>\n",
       "    <tr>\n",
       "      <th>8</th>\n",
       "      <td>127.159477</td>\n",
       "      <td>126.565880</td>\n",
       "    </tr>\n",
       "    <tr>\n",
       "      <th>9</th>\n",
       "      <td>131.040756</td>\n",
       "      <td>131.527026</td>\n",
       "    </tr>\n",
       "    <tr>\n",
       "      <th>10</th>\n",
       "      <td>122.996490</td>\n",
       "      <td>120.245167</td>\n",
       "    </tr>\n",
       "    <tr>\n",
       "      <th>11</th>\n",
       "      <td>148.926865</td>\n",
       "      <td>147.855255</td>\n",
       "    </tr>\n",
       "    <tr>\n",
       "      <th>12</th>\n",
       "      <td>148.600006</td>\n",
       "      <td>147.461398</td>\n",
       "    </tr>\n",
       "    <tr>\n",
       "      <th>13</th>\n",
       "      <td>145.600006</td>\n",
       "      <td>146.433398</td>\n",
       "    </tr>\n",
       "    <tr>\n",
       "      <th>14</th>\n",
       "      <td>134.001266</td>\n",
       "      <td>132.177334</td>\n",
       "    </tr>\n",
       "    <tr>\n",
       "      <th>15</th>\n",
       "      <td>123.355186</td>\n",
       "      <td>124.739958</td>\n",
       "    </tr>\n",
       "    <tr>\n",
       "      <th>16</th>\n",
       "      <td>121.760445</td>\n",
       "      <td>121.545781</td>\n",
       "    </tr>\n",
       "    <tr>\n",
       "      <th>17</th>\n",
       "      <td>139.750626</td>\n",
       "      <td>137.787951</td>\n",
       "    </tr>\n",
       "    <tr>\n",
       "      <th>18</th>\n",
       "      <td>144.892914</td>\n",
       "      <td>142.574854</td>\n",
       "    </tr>\n",
       "    <tr>\n",
       "      <th>19</th>\n",
       "      <td>115.988907</td>\n",
       "      <td>120.836350</td>\n",
       "    </tr>\n",
       "    <tr>\n",
       "      <th>20</th>\n",
       "      <td>145.422119</td>\n",
       "      <td>143.838199</td>\n",
       "    </tr>\n",
       "    <tr>\n",
       "      <th>21</th>\n",
       "      <td>146.170990</td>\n",
       "      <td>148.210563</td>\n",
       "    </tr>\n",
       "    <tr>\n",
       "      <th>22</th>\n",
       "      <td>126.660225</td>\n",
       "      <td>129.408414</td>\n",
       "    </tr>\n",
       "    <tr>\n",
       "      <th>23</th>\n",
       "      <td>132.685501</td>\n",
       "      <td>134.719467</td>\n",
       "    </tr>\n",
       "    <tr>\n",
       "      <th>24</th>\n",
       "      <td>145.641785</td>\n",
       "      <td>144.183645</td>\n",
       "    </tr>\n",
       "    <tr>\n",
       "      <th>25</th>\n",
       "      <td>148.889999</td>\n",
       "      <td>146.186281</td>\n",
       "    </tr>\n",
       "  </tbody>\n",
       "</table>\n",
       "</div>"
      ],
      "text/plain": [
       "        y_test      y_pred\n",
       "0   133.210419  134.382837\n",
       "1   124.720970  128.206514\n",
       "2   149.710007  148.281829\n",
       "3   120.823441  120.264868\n",
       "4   146.699997  145.039654\n",
       "5   146.730164  147.036057\n",
       "6   131.519226  132.768523\n",
       "7   146.089996  146.196160\n",
       "8   127.159477  126.565880\n",
       "9   131.040756  131.527026\n",
       "10  122.996490  120.245167\n",
       "11  148.926865  147.855255\n",
       "12  148.600006  147.461398\n",
       "13  145.600006  146.433398\n",
       "14  134.001266  132.177334\n",
       "15  123.355186  124.739958\n",
       "16  121.760445  121.545781\n",
       "17  139.750626  137.787951\n",
       "18  144.892914  142.574854\n",
       "19  115.988907  120.836350\n",
       "20  145.422119  143.838199\n",
       "21  146.170990  148.210563\n",
       "22  126.660225  129.408414\n",
       "23  132.685501  134.719467\n",
       "24  145.641785  144.183645\n",
       "25  148.889999  146.186281"
      ]
     },
     "execution_count": 16,
     "metadata": {},
     "output_type": "execute_result"
    }
   ],
   "source": [
    "# Scikit Linear Regression - train model\n",
    "sklr = ScikitLinearRegression()\n",
    "reg = sklr.model(X_train, y_train)\n",
    "\n",
    "# Scikit Linear Regression - predict\n",
    "y_pred = sklr.predict(reg, X_test)\n",
    "\n",
    "# Linear Regression - compare\n",
    "y_test.reset_index(inplace=True)\n",
    "y_pred = pd.DataFrame(y_pred, columns=['Close']).reset_index()\n",
    "print(f\"\\nlength:: y_test: {len(y_test)}  y_pred: {len(y_pred)}\")\n",
    "print(f\"\\type:: y_test: {type(y_test)}  y_pred: {type(y_pred)}\")\n",
    "# print(f\"*** y_pred: \\n{y_pred['Close']} \")\n",
    "\n",
    "compare(y_test, y_pred)"
   ]
  },
  {
   "cell_type": "code",
   "execution_count": null,
   "id": "86bb8b56-7db8-459b-b5db-ff629702a931",
   "metadata": {},
   "outputs": [],
   "source": [
    "print(f\"Regression Coefficients: {reg.coef_}\")\n",
    "print(f\"Regression Intercept: {reg.intercept_}\")\n",
    "# print(f\"Regression Score: {reg.score(X_test, y_test)}\")\n",
    "# print(f\"Regression Mean Squared Error: {reg.score(X_test, y_test)}\")"
   ]
  },
  {
   "cell_type": "code",
   "execution_count": null,
   "id": "add6965d-9c91-4050-b2ea-0cb89cb5f508",
   "metadata": {},
   "outputs": [],
   "source": [
    "import matplotlib.pyplot as plt\n",
    "import matplotlib as mpl\n",
    "from matplotlib import cm\n",
    "from mpl_toolkits.mplot3d import Axes3D\n",
    "\n"
   ]
  }
 ],
 "metadata": {
  "kernelspec": {
   "display_name": "Python 3",
   "language": "python",
   "name": "python3"
  },
  "language_info": {
   "codemirror_mode": {
    "name": "ipython",
    "version": 3
   },
   "file_extension": ".py",
   "mimetype": "text/x-python",
   "name": "python",
   "nbconvert_exporter": "python",
   "pygments_lexer": "ipython3",
   "version": "3.8.5"
  },
  "widgets": {
   "application/vnd.jupyter.widget-state+json": {
    "state": {},
    "version_major": 2,
    "version_minor": 0
   }
  }
 },
 "nbformat": 4,
 "nbformat_minor": 5
}
